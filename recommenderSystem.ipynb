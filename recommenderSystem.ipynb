{
 "cells": [
  {
   "cell_type": "markdown",
   "metadata": {},
   "source": [
    "# Recommender System\n",
    "\n",
    "Some hints for hacking the challenge:\n",
    "\n",
    "* Why would they have selected this problem for the challenge? \n",
    "* What are some gotchas in this domain I should know about?\n",
    "* What is the highest level of accuracy that others have achieved with this dataset or similar problems / datasets ?\n",
    "* What types of visualizations will help me grasp the nature of the problem / data?\n",
    "* What feature engineering might help improve the signal?\n",
    "* Which modeling techniques are good at capturing the types of relationships I see in this data?\n",
    "* Now that I have a model, how can I be sure that I didn't introduce a bug in the code? If results are too good to be true, they probably are!\n",
    "* What are some of the weakness of the model and and how can the model be improved with additional work?\n"
   ]
  },
  {
   "cell_type": "markdown",
   "metadata": {},
   "source": [
    "### Summary\n",
    "\n",
    "I have used spotlight (https://github.com/maciejkula/spotlight) library to import MovieLens 1M dataset, split the dataset to train and test set, train it using Implicit Factorization model. Implicit Factorization Model is a type of Collaborative Filtering. The spotlight library can also be used to import MovieLens 10M/20M/100K dataset. "
   ]
  },
  {
   "cell_type": "markdown",
   "metadata": {},
   "source": [
    "### Import Libraries"
   ]
  },
  {
   "cell_type": "code",
   "execution_count": 1,
   "metadata": {},
   "outputs": [
    {
     "name": "stdout",
     "output_type": "stream",
     "text": [
      "Done Import\n"
     ]
    }
   ],
   "source": [
    "from spotlight.cross_validation import random_train_test_split\n",
    "from spotlight.datasets.movielens import get_movielens_dataset\n",
    "from spotlight.evaluation import mrr_score\n",
    "from spotlight.factorization.implicit import ImplicitFactorizationModel\n",
    "\n",
    "print (\"Done Import\")"
   ]
  },
  {
   "cell_type": "markdown",
   "metadata": {},
   "source": [
    "### Get the dataset and randomly split to train and test set"
   ]
  },
  {
   "cell_type": "code",
   "execution_count": 3,
   "metadata": {},
   "outputs": [
    {
     "name": "stdout",
     "output_type": "stream",
     "text": [
      "number of users\n",
      "6041\n",
      "number of movies\n",
      "3953\n"
     ]
    }
   ],
   "source": [
    "#get the dataset\n",
    "dataset = get_movielens_dataset(variant='1M')\n",
    "\n",
    "#split the train test set\n",
    "train, test = random_train_test_split(dataset)\n",
    "\n",
    "#number of users and movies in training data\n",
    "n_users = train.num_users\n",
    "n_items = train.num_items\n",
    "\n",
    "print (\"number of users\")\n",
    "print (n_users)\n",
    "\n",
    "print (\"number of movies\")\n",
    "print (n_items)"
   ]
  },
  {
   "cell_type": "markdown",
   "metadata": {},
   "source": [
    "### Get the Model"
   ]
  },
  {
   "cell_type": "code",
   "execution_count": 4,
   "metadata": {},
   "outputs": [
    {
     "name": "stdout",
     "output_type": "stream",
     "text": [
      "Using Implicit Factorization Model from Spotlight library\n"
     ]
    }
   ],
   "source": [
    "#get the model\n",
    "model = ImplicitFactorizationModel(n_iter=3,loss='bpr')\n",
    "print (\"Using Implicit Factorization Model from Spotlight library\")"
   ]
  },
  {
   "cell_type": "markdown",
   "metadata": {},
   "source": [
    "### Fit the Model"
   ]
  },
  {
   "cell_type": "code",
   "execution_count": 5,
   "metadata": {},
   "outputs": [
    {
     "name": "stdout",
     "output_type": "stream",
     "text": [
      "Fit the model with train data\n"
     ]
    }
   ],
   "source": [
    "#fit the model\n",
    "model.fit(train)\n",
    "print (\"Fit the model with train data\")"
   ]
  },
  {
   "cell_type": "markdown",
   "metadata": {},
   "source": [
    "### Find MRR Score"
   ]
  },
  {
   "cell_type": "code",
   "execution_count": 13,
   "metadata": {},
   "outputs": [
    {
     "name": "stdout",
     "output_type": "stream",
     "text": [
      "MRR Score\n",
      "[ 0.10952729  0.02140233  0.12615023 ...,  0.00300406  0.00907233\n",
      "  0.02024415]\n"
     ]
    }
   ],
   "source": [
    "#One score is given for every user with interactions in the test set, \n",
    "#representing the mean reciprocal rank of all their test items.\n",
    "\n",
    "#MRR scores: it's ranking every item for a given user, then computing the MRR of the positive items in the test set. \n",
    "#In that sense, it is constructing a ranking for each user (making predictions) and then computing the performance metric.\n",
    "\n",
    "mrr = mrr_score(model, test)\n",
    "print (\"MRR Score\")\n",
    "print (mrr)"
   ]
  },
  {
   "cell_type": "markdown",
   "metadata": {
    "collapsed": true
   },
   "source": [
    "### Define Recommendation Function"
   ]
  },
  {
   "cell_type": "code",
   "execution_count": 11,
   "metadata": {
    "collapsed": true
   },
   "outputs": [],
   "source": [
    "#The higher the score, the stronger the recommendation\n",
    "#For example if outputs a negative number, the model ranks that movie lower than if the output were a positive number\n",
    "\n",
    "def sample_recommendation(model, data, user_ids):\n",
    "\n",
    "    #generate recommendations for each user we input\n",
    "    for user_id in user_ids:\n",
    "        #movies our model predicts they will like\n",
    "        scores = model.predict(user_id)\n",
    "        print(\"User %s\" % user_id)\n",
    "\n",
    "        print (scores)"
   ]
  },
  {
   "cell_type": "code",
   "execution_count": 12,
   "metadata": {},
   "outputs": [
    {
     "name": "stdout",
     "output_type": "stream",
     "text": [
      "User 3\n",
      "[-20.88231277  20.29821587  13.05710411 ..., -13.8057003   -9.36943722\n",
      "   0.94555044]\n",
      "User 25\n",
      "[-18.12098885  27.03703308  12.57414818 ...,  -5.48110199  -3.6222446\n",
      "   5.24459696]\n",
      "User 450\n",
      "[-14.90546608  22.6123867    4.96127892 ...,  -2.64198732  -2.8596313\n",
      "   9.96584606]\n"
     ]
    }
   ],
   "source": [
    "#call the recommendation function to test\n",
    "sample_recommendation(model, dataset, [3, 25, 450])\n"
   ]
  },
  {
   "cell_type": "markdown",
   "metadata": {},
   "source": [
    "### Discussion"
   ]
  },
  {
   "attachments": {},
   "cell_type": "markdown",
   "metadata": {},
   "source": [
    "#### Types of Recommender Systems:\n",
    "\n",
    "There are three main classes of recommendation systems\n",
    "\n",
    "* Collaborative filtering systems – Collaborative systems generate recommendations based on crowd-sourced input. They recommend items based on user behavior, and similarities between users. (An example is Google PageRank, which recommends similar web pages based on a web pages’ back links). Collaborative systems often deploy a nearest neighbor method or an item-based collaborative filtering system – a simple system that makes recommendations based on simple regression or a weighted-sum approach. The end goal of collaborative systems is to make recommendations based on customers’ behavior, purchasing patterns, and preferences, as well as product attributes, price ranges, and product categories. \n",
    "\n",
    "* Content-based filtering systems – Content-based systems generate recommendations based on items and similarities between them. (Pandora uses content-based filtering to make its music recommendations). Content-based systems can deploy methods as simple as averaging, or they can deploy advanced machine learning approaches in the form of Naive Bayes classifiers, clustering algorithms or artificial neural nets.\n",
    "\n",
    "* Hybrid recommendation systems – Hybrid recommendation systems combine both collaborative and content-based approaches. They help improve recommendations that are derived from sparse datasets. (Netflix is a prime example of a hybrid recommender)\n",
    "\n",
    "\n",
    " \n",
    "\n",
    "#### What is Implicit Factorization Model?\n",
    "* A type of Collaborative filtering\n",
    "* Uses a classic matrix factorization approach, with latent vectors used to represent both users and items. Their dot product gives the predicted score for a user-item pair.\n",
    "* The model is trained through negative sampling: for any known user-item pair, one or more items are randomly sampled to act as negatives (expressing a lack of preference by the user for the sampled item).\n",
    "\n",
    "#### Weakness of the model and how can it be improved?\n",
    "* Since we are using Implicit Factorization Model which is a type of Collaborative filtering, our model lacks the advantage of Hybrid recommender system. It can't generate recommendation based on similarities between items. The system can be improved with a Hybrid recommender system that includes both Collaborative and Content-based filtering approach."
   ]
  },
  {
   "cell_type": "code",
   "execution_count": null,
   "metadata": {
    "collapsed": true
   },
   "outputs": [],
   "source": []
  }
 ],
 "metadata": {
  "anaconda-cloud": {},
  "kernelspec": {
   "display_name": "Python 3",
   "language": "python",
   "name": "python3"
  },
  "language_info": {
   "codemirror_mode": {
    "name": "ipython",
    "version": 3
   },
   "file_extension": ".py",
   "mimetype": "text/x-python",
   "name": "python",
   "nbconvert_exporter": "python",
   "pygments_lexer": "ipython3",
   "version": "3.6.2"
  },
  "widgets": {
   "state": {},
   "version": "1.1.2"
  }
 },
 "nbformat": 4,
 "nbformat_minor": 1
}

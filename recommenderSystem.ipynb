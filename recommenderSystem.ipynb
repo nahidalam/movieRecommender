{
 "cells": [
  {
   "cell_type": "markdown",
   "metadata": {
    "deletable": true,
    "editable": true
   },
   "source": [
    "# Recommender System\n",
    "\n",
    "Some hints for hacking the challenge:\n",
    "\n",
    "* Why would they have selected this problem for the challenge? \n",
    "* What are some gotchas in this domain I should know about?\n",
    "* What is the highest level of accuracy that others have achieved with this dataset or similar problems / datasets ?\n",
    "* What types of visualizations will help me grasp the nature of the problem / data?\n",
    "* What feature engineering might help improve the signal?\n",
    "* Which modeling techniques are good at capturing the types of relationships I see in this data?\n",
    "* Now that I have a model, how can I be sure that I didn't introduce a bug in the code? If results are too good to be true, they probably are!\n",
    "* What are some of the weakness of the model and and how can the model be improved with additional work?\n"
   ]
  },
  {
   "cell_type": "markdown",
   "metadata": {},
   "source": [
    "### Summary\n",
    "\n",
    "I have used spotlight (https://github.com/maciejkula/spotlight) library to import MovieLens 1M dataset, split the dataset to train and test set, train it using Implicit Factorization model. The spotlight library can also be used to import MovieLens 10M/20M/100K dataset. "
   ]
  },
  {
   "cell_type": "markdown",
   "metadata": {
    "deletable": true,
    "editable": true
   },
   "source": [
    "### Import Libraries"
   ]
  },
  {
   "cell_type": "code",
   "execution_count": 1,
   "metadata": {
    "collapsed": false,
    "deletable": true,
    "editable": true
   },
   "outputs": [
    {
     "name": "stdout",
     "output_type": "stream",
     "text": [
      "Done Import\n"
     ]
    }
   ],
   "source": [
    "from spotlight.cross_validation import random_train_test_split\n",
    "from spotlight.datasets.movielens import get_movielens_dataset\n",
    "from spotlight.evaluation import mrr_score\n",
    "from spotlight.factorization.implicit import ImplicitFactorizationModel\n",
    "\n",
    "print (\"Done Import\")"
   ]
  },
  {
   "cell_type": "markdown",
   "metadata": {
    "deletable": true,
    "editable": true
   },
   "source": [
    "### Get the dataset and randomly split to train and test set"
   ]
  },
  {
   "cell_type": "code",
   "execution_count": 3,
   "metadata": {
    "collapsed": false,
    "deletable": true,
    "editable": true
   },
   "outputs": [
    {
     "name": "stdout",
     "output_type": "stream",
     "text": [
      "number of users\n",
      "6041\n",
      "number of movies\n",
      "3953\n"
     ]
    }
   ],
   "source": [
    "#get the dataset\n",
    "dataset = get_movielens_dataset(variant='1M')\n",
    "\n",
    "#split the train test set\n",
    "train, test = random_train_test_split(dataset)\n",
    "\n",
    "#number of users and movies in training data\n",
    "n_users = train.num_users\n",
    "n_items = train.num_items\n",
    "\n",
    "print (\"number of users\")\n",
    "print (n_users)\n",
    "\n",
    "print (\"number of movies\")\n",
    "print (n_items)"
   ]
  },
  {
   "cell_type": "markdown",
   "metadata": {
    "deletable": true,
    "editable": true
   },
   "source": [
    "### Get the Model"
   ]
  },
  {
   "cell_type": "code",
   "execution_count": 4,
   "metadata": {
    "collapsed": false,
    "deletable": true,
    "editable": true
   },
   "outputs": [
    {
     "name": "stdout",
     "output_type": "stream",
     "text": [
      "Using Implicit Factorization Model from Spotlight library\n"
     ]
    }
   ],
   "source": [
    "#get the model\n",
    "model = ImplicitFactorizationModel(n_iter=3,loss='bpr')\n",
    "print (\"Using Implicit Factorization Model from Spotlight library\")"
   ]
  },
  {
   "cell_type": "markdown",
   "metadata": {
    "deletable": true,
    "editable": true
   },
   "source": [
    "### Fit the Model"
   ]
  },
  {
   "cell_type": "code",
   "execution_count": 5,
   "metadata": {
    "collapsed": false
   },
   "outputs": [
    {
     "name": "stdout",
     "output_type": "stream",
     "text": [
      "Fit the model with train data\n"
     ]
    }
   ],
   "source": [
    "#fit the model\n",
    "model.fit(train)\n",
    "print (\"Fit the model with train data\")"
   ]
  },
  {
   "cell_type": "markdown",
   "metadata": {
    "deletable": true,
    "editable": true
   },
   "source": [
    "### Find MRR Score"
   ]
  },
  {
   "cell_type": "code",
   "execution_count": 13,
   "metadata": {
    "collapsed": false,
    "deletable": true,
    "editable": true
   },
   "outputs": [
    {
     "name": "stdout",
     "output_type": "stream",
     "text": [
      "MRR Score\n",
      "[ 0.10952729  0.02140233  0.12615023 ...,  0.00300406  0.00907233\n",
      "  0.02024415]\n"
     ]
    }
   ],
   "source": [
    "#One score is given for every user with interactions in the test set, \n",
    "#representing the mean reciprocal rank of all their test items.\n",
    "\n",
    "#MRR scores: it's ranking every item for a given user, then computing the MRR of the positive items in the test set. \n",
    "#In that sense, it is constructing a ranking for each user (making predictions) and then computing the performance metric.\n",
    "\n",
    "mrr = mrr_score(model, test)\n",
    "print (\"MRR Score\")\n",
    "print (mrr)"
   ]
  },
  {
   "cell_type": "markdown",
   "metadata": {
    "collapsed": true,
    "deletable": true,
    "editable": true
   },
   "source": [
    "### Define Recommendation Function"
   ]
  },
  {
   "cell_type": "code",
   "execution_count": 11,
   "metadata": {
    "collapsed": true
   },
   "outputs": [],
   "source": [
    "#The higher the score, the stronger the recommendation\n",
    "#For example if outputs a negative number, the model ranks that movie lower than if the output were a positive number\n",
    "\n",
    "def sample_recommendation(model, data, user_ids):\n",
    "\n",
    "    #generate recommendations for each user we input\n",
    "    for user_id in user_ids:\n",
    "        #movies our model predicts they will like\n",
    "        scores = model.predict(user_id)\n",
    "        print(\"User %s\" % user_id)\n",
    "\n",
    "        print (scores)"
   ]
  },
  {
   "cell_type": "code",
   "execution_count": 12,
   "metadata": {
    "collapsed": false
   },
   "outputs": [
    {
     "name": "stdout",
     "output_type": "stream",
     "text": [
      "User 3\n",
      "[-20.88231277  20.29821587  13.05710411 ..., -13.8057003   -9.36943722\n",
      "   0.94555044]\n",
      "User 25\n",
      "[-18.12098885  27.03703308  12.57414818 ...,  -5.48110199  -3.6222446\n",
      "   5.24459696]\n",
      "User 450\n",
      "[-14.90546608  22.6123867    4.96127892 ...,  -2.64198732  -2.8596313\n",
      "   9.96584606]\n"
     ]
    }
   ],
   "source": [
    "#call the recommendation function to test\n",
    "sample_recommendation(model, dataset, [3, 25, 450])\n"
   ]
  },
  {
   "cell_type": "markdown",
   "metadata": {},
   "source": [
    "### Discussion"
   ]
  },
  {
   "cell_type": "markdown",
   "metadata": {},
   "source": [
    "#### Why would they have selected this problem for the challenge?\n",
    "\n",
    "#### What are some gotchas in this domain I should know about?\n",
    "\n",
    "#### What is the highest level of accuracy that others have achieved with this dataset or similar problems / datasets ?\n",
    "\n",
    "#### What types of visualizations will help me grasp the nature of the problem / data?\n",
    "\n",
    "#### What feature engineering might help improve the signal?\n",
    "\n",
    "#### Which modeling techniques are good at capturing the types of relationships I see in this data?\n",
    "\n",
    "#### Now that I have a model, how can I be sure that I didn't introduce a bug in the code? If results are too good to be true, they probably are!\n",
    "\n",
    "#### What are some of the weakness of the model and and how can the model be improved with additional work?"
   ]
  },
  {
   "cell_type": "code",
   "execution_count": null,
   "metadata": {
    "collapsed": true
   },
   "outputs": [],
   "source": []
  }
 ],
 "metadata": {
  "anaconda-cloud": {},
  "kernelspec": {
   "display_name": "Python 3",
   "language": "python",
   "name": "python3"
  },
  "language_info": {
   "codemirror_mode": {
    "name": "ipython",
    "version": 3
   },
   "file_extension": ".py",
   "mimetype": "text/x-python",
   "name": "python",
   "nbconvert_exporter": "python",
   "pygments_lexer": "ipython3",
   "version": "3.5.2"
  },
  "widgets": {
   "state": {},
   "version": "1.1.2"
  }
 },
 "nbformat": 4,
 "nbformat_minor": 1
}
